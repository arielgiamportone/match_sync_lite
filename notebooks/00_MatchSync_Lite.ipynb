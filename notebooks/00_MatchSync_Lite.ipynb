{
 "cells": [
  {
   "cell_type": "markdown",
   "id": "c22b3f85",
   "metadata": {},
   "source": [
    "# MatchSync Lite – Conciliación de Datos para Retail\n",
    "\n",
    "**Resumen:**  \n",
    "Este cuaderno demuestra el pipeline completo para la conciliación automática de datos en un entorno retail a pequeña escala. La solución, basada en técnicas de matching exacto y difuso con RapidFuzz y ajuste dinámico, automatiza la conciliación de ventas y depósitos bancarios, reduciendo el trabajo manual y aumentando la trazabilidad.\n",
    "\n",
    "**Objetivos:**\n",
    "- Generar datos de ejemplo y la estructura de los campos.\n",
    "- Procesar y conciliar los datos mediante un enfoque iterativo.\n",
    "- Validar discrepancias y generar reportes detallados.\n",
    "- Mostrar resultados con visualizaciones y análisis estadístico.\n",
    "\n",
    "**Autor:** Ariel Luján Giamportone  \n",
    "**Fecha:** 2025-04-01  \n",
    "**Versión:** 1.0\n"
   ]
  },
  {
   "cell_type": "markdown",
   "id": "7bfee929",
   "metadata": {},
   "source": [
    "## Configuración del Entorno y Cargas (Code - configuración)\n",
    "- Configurar logging y rutas.\n",
    "\n",
    "- Importar las librerías necesarias."
   ]
  },
  {
   "cell_type": "code",
   "execution_count": null,
   "id": "3a738141",
   "metadata": {},
   "outputs": [],
   "source": [
    "import os\n",
    "import logging\n",
    "import pandas as pd\n",
    "import numpy as np\n",
    "from pathlib import Path\n",
    "\n",
    "logging.basicConfig(level=logging.INFO)\n",
    "# Definir la ruta raíz del proyecto\n",
    "ROOT_DIR = Path(__file__).resolve().parent.parent.parent  # Ajusta según la ubicación del notebook\n",
    "print(\"ROOT_DIR:\", ROOT_DIR)\n",
    "\n",
    "# Configurar rutas\n",
    "STRUCTURE_FILE = ROOT_DIR / \"data\" / \"raw\" / \"estructura.xlsx\"\n",
    "TABLA1_FILE = ROOT_DIR / \"data\" / \"raw\" / \"tabla1.xlsx\"\n",
    "TABLA2_FILE = ROOT_DIR / \"data\" / \"raw\" / \"tabla2.xlsx\"\n",
    "REPORTS_PATH = ROOT_DIR / \"reports\"\n"
   ]
  },
  {
   "cell_type": "markdown",
   "id": "692c12b7",
   "metadata": {},
   "source": [
    "## Generación de la Estructura y Datos (Code)\n",
    "Ejecutar los scripts que generan la estructura y los datos (puedes usar subprocess para llamarlos o importar sus funciones directamente)."
   ]
  },
  {
   "cell_type": "code",
   "execution_count": null,
   "id": "765af4fa",
   "metadata": {},
   "outputs": [],
   "source": [
    "import subprocess\n",
    "import sys\n",
    "\n",
    "def run_script(script_path):\n",
    "    result = subprocess.run([sys.executable, str(script_path)], capture_output=True, text=True)\n",
    "    if result.returncode != 0:\n",
    "        logging.error(f\"Error ejecutando {script_path}:\\n{result.stderr}\")\n",
    "    else:\n",
    "        logging.info(result.stdout)\n",
    "\n",
    "# Ejecutar scripts de generación de estructura y datos\n",
    "run_script(Path(\"scripts\") / \"genera_estructura.py\")\n",
    "run_script(Path(\"scripts\") / \"generate_data.py\")\n"
   ]
  },
  {
   "cell_type": "markdown",
   "id": "21b61517",
   "metadata": {},
   "source": [
    "## Proceso de Conciliación (Code)\n",
    "Importar y ejecutar el módulo de conciliación (ej. ConciliadorAvanzado) y mostrar algunos resultados intermedios."
   ]
  },
  {
   "cell_type": "code",
   "execution_count": null,
   "id": "735ce1a9",
   "metadata": {},
   "outputs": [],
   "source": [
    "from src.data.process_data import ConciliadorAvanzado\n",
    "\n",
    "conciliador = ConciliadorAvanzado()\n",
    "tabla1_final, tabla2_final = conciliador.conciliacion_iterativa()\n",
    "\n",
    "# Mostrar una muestra de los datos conciliados\n",
    "display(tabla1_final.head())"
   ]
  },
  {
   "cell_type": "markdown",
   "id": "84ed4aed",
   "metadata": {},
   "source": [
    "## Generación de Reportes y Visualizaciones (Code y Markdown)\n",
    "Llamar al método para generar reportes en Excel y, si tienes un módulo de visualización, mostrar un gráfico directamente en el notebook."
   ]
  },
  {
   "cell_type": "code",
   "execution_count": null,
   "id": "247c6c75",
   "metadata": {},
   "outputs": [],
   "source": [
    "# Generar reporte en Excel\n",
    "conciliador.generar_reporte(tabla1_final, tabla2_final)\n",
    "\n",
    "# (Opcional) Mostrar plot de distribución de puntajes (usando matplotlib o un modulo custom)\n",
    "try:\n",
    "    from src.visualization.plot_results import plot_match_score_distribution\n",
    "    output_plot = REPORTS_PATH / \"match_score_distribution.png\"\n",
    "    plot_match_score_distribution(tabla1_final, str(output_plot))\n",
    "    from IPython.display import Image, display\n",
    "    display(Image(filename=str(output_plot)))\n",
    "except ImportError:\n",
    "    logging.info(\"Módulo de visualización no encontrado; omitiendo plot.\")\n"
   ]
  },
  {
   "cell_type": "markdown",
   "id": "52da8638",
   "metadata": {},
   "source": [
    "## Conclusiones y Siguientes Pasos\n",
    "\n",
    "- Se ha generado la estructura y los datos de ejemplo para el escenario retail.\n",
    "- El proceso de conciliación se ha ejecutado de forma iterativa, obteniendo reportes en Excel y visualizaciones.\n",
    "- **Resultados:**  \n",
    "  Los reportes muestran el número de registros conciliados, coincidencias exactas y difusas, y otros indicadores relevantes.\n",
    "  \n",
    "**Siguientes Pasos:**  \n",
    "- Evaluar la integración de modelos ML supervisados para mejorar el matching.\n",
    "- Desarrollar dashboards interactivos para seguimiento en tiempo real.\n",
    "- Refinar las reglas de validación y segregación en base a feedback adicional.\n"
   ]
  }
 ],
 "metadata": {
  "kernelspec": {
   "display_name": "env",
   "language": "python",
   "name": "python3"
  },
  "language_info": {
   "name": "python",
   "version": "3.10.11"
  }
 },
 "nbformat": 4,
 "nbformat_minor": 5
}
